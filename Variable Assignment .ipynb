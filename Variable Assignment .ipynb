{
 "cells": [
  {
   "cell_type": "raw",
   "id": "c210ef73-bca0-4414-8f44-53bb354c8c31",
   "metadata": {},
   "source": [
    " 1. A variable name must start with a letter or an underscore character (_) A variable name cannot start with a digit. A variable name can only contain alpha-numeric characters and underscores ( a-z, A-Z , 0-9 , and _ ) Variable names are case-sensitive (age, Age and AGE are three different variables)"
   ]
  },
  {
   "cell_type": "raw",
   "id": "c0c754ff-3ecd-475b-97f1-d162bdaa0d7d",
   "metadata": {},
   "source": [
    "2. A compilation error will be triggered.\n"
   ]
  },
  {
   "cell_type": "raw",
   "id": "26162399-3045-43f5-947f-499dd41a933e",
   "metadata": {},
   "source": [
    "3. Yes by using vars () function."
   ]
  },
  {
   "cell_type": "raw",
   "id": "9d249fde-9d14-4939-981d-9827a84e9c8e",
   "metadata": {},
   "source": [
    "4. yes it is possible."
   ]
  },
  {
   "cell_type": "code",
   "execution_count": 4,
   "id": "cb4d7f43-86ac-4414-97de-cb01c4e81275",
   "metadata": {},
   "outputs": [],
   "source": [
    "_=1"
   ]
  },
  {
   "cell_type": "code",
   "execution_count": 5,
   "id": "3f56b489-7bc4-4381-b872-53bead2d5cba",
   "metadata": {},
   "outputs": [
    {
     "data": {
      "text/plain": [
       "1"
      ]
     },
     "execution_count": 5,
     "metadata": {},
     "output_type": "execute_result"
    }
   ],
   "source": [
    "_"
   ]
  },
  {
   "cell_type": "raw",
   "id": "b6d1e17a-0190-4fc6-a9a4-96d584f69ed9",
   "metadata": {},
   "source": [
    "5.Python allows one to add an integer and a floating point number, but adding an integer to a string produces error."
   ]
  }
 ],
 "metadata": {
  "kernelspec": {
   "display_name": "Python 3 (ipykernel)",
   "language": "python",
   "name": "python3"
  },
  "language_info": {
   "codemirror_mode": {
    "name": "ipython",
    "version": 3
   },
   "file_extension": ".py",
   "mimetype": "text/x-python",
   "name": "python",
   "nbconvert_exporter": "python",
   "pygments_lexer": "ipython3",
   "version": "3.10.8"
  }
 },
 "nbformat": 4,
 "nbformat_minor": 5
}
